{
 "cells": [
  {
   "cell_type": "code",
   "execution_count": 119,
   "metadata": {
    "scrolled": true
   },
   "outputs": [],
   "source": [
    "# coding=utf-8\n",
    "import time\n",
    "import sys\n",
    "import random\n",
    "import requests\n",
    "from time import sleep\n",
    "from bson import ObjectId\n",
    "from selenium import webdriver\n",
    "from selenium.webdriver.common.desired_capabilities import DesiredCapabilities\n",
    "from selenium.common.exceptions import NoSuchElementException\n",
    "from selenium.webdriver.common.keys import Keys\n",
    "import selenium.webdriver.support.ui as ui\n",
    "from selenium.webdriver.common.by import By\n",
    "from selenium.webdriver.support import expected_conditions\n",
    "from selenium.webdriver.support.wait import WebDriverWait\n",
    "from selenium.webdriver.support import expected_conditions as EC"
   ]
  },
  {
   "cell_type": "code",
   "execution_count": 120,
   "metadata": {},
   "outputs": [],
   "source": [
    "def create_browser(user_agent):\n",
    "    capabilities = DesiredCapabilities.FIREFOX.copy()\n",
    "    capabilities['marionette'] = True\n",
    "    capabilities['acceptSslCerts'] = True\n",
    "    profile = webdriver.FirefoxProfile()\n",
    "    profile.set_preference(\"browser.privatebrowsing.autostart\", True)\n",
    "    profile.set_preference(\"browser.cache.disk.enable\", False)\n",
    "    profile.set_preference(\"browser.cache.memory.enable\", False)\n",
    "    profile.set_preference(\"browser.cache.offline.enable\", False)\n",
    "    profile.set_preference(\"network.http.use-cache\", False)\n",
    "    profile.set_preference(\"media.volume_scale\", \"0.0\")\n",
    "    profile.set_preference(\"general.useragent.override\", user_agent['name'])\n",
    "    profile.update_preferences()\n",
    "    options = webdriver.FirefoxOptions()\n",
    "    # options.add_argument(\"--headless\")\n",
    "    if sys.platform == 'win32':\n",
    "        geckodriver = '../../etc/geckodriver-v0.21.0-win64/geckodriver.exe'\n",
    "        binary = 'C:/Program Files/Mozilla Firefox/firefox.exe'\n",
    "    else:\n",
    "        geckodriver = 'etc/geckodriver-v0.21.0-linux64/geckodriver'\n",
    "        binary = '/usr/bin/firefox'\n",
    "        options.add_argument('-headless')\n",
    "        \n",
    "    browser = webdriver.Firefox(\n",
    "        executable_path=geckodriver,\n",
    "        firefox_options=options,\n",
    "        capabilities=capabilities,\n",
    "        firefox_binary=binary,\n",
    "        firefox_profile=profile)\n",
    "    return browser"
   ]
  },
  {
   "cell_type": "markdown",
   "metadata": {},
   "source": [
    "## Create browser"
   ]
  },
  {
   "cell_type": "code",
   "execution_count": 121,
   "metadata": {},
   "outputs": [],
   "source": [
    "def get_urls_from_google(keyword):\n",
    "    browser.get('https://www.google.com.vn/search?q={}&tbm=vid'.format(keyword))\n",
    "    search_btn = browser.find_element_by_id('mKlEF')\n",
    "    search_btn.click()\n",
    "    time.sleep(3)\n",
    "    browser.refresh()\n",
    "    videos = browser.find_elements_by_css_selector('div.rc > h3.r > a')\n",
    "    for video in videos:\n",
    "        href = video.get_attribute('href')\n",
    "        if href and 'youtube' in href:\n",
    "            video.click()\n",
    "            time.sleep(random.randint(5, 50))\n",
    "            browser.back()"
   ]
  },
  {
   "cell_type": "code",
   "execution_count": 122,
   "metadata": {},
   "outputs": [],
   "source": [
    "def get_urls_from_youtube(keyword):\n",
    "    browser.get('https://www.youtube.com/results?search_query={}'.format(keyword))\n",
    "    time.sleep(2)\n",
    "    items = browser.find_elements_by_tag_name('a')\n",
    "    index = 0\n",
    "    videos = list()\n",
    "    \n",
    "    for item in items:\n",
    "        href = item.get_attribute('href')\n",
    "        if href and 'watch' in href:\n",
    "            videos.append(href)\n",
    "    print(len(videos))\n",
    "    while index < len(videos):\n",
    "        browser.get(videos[index])\n",
    "        index += 1\n",
    "        try:\n",
    "            player = browser.find_element_by_id('player')\n",
    "            if player:\n",
    "                player.click()\n",
    "        except Exception as ex:\n",
    "            print('Can not start video')\n",
    "            \n",
    "        time.sleep(random.randint(5, 50))\n",
    "        browser.back()\n",
    "    browser.quit()\n"
   ]
  },
  {
   "cell_type": "markdown",
   "metadata": {},
   "source": [
    "## fake ip"
   ]
  },
  {
   "cell_type": "markdown",
   "metadata": {},
   "source": [
    "## start pymongo"
   ]
  },
  {
   "cell_type": "code",
   "execution_count": 123,
   "metadata": {},
   "outputs": [],
   "source": [
    "from pymongo import MongoClient\n",
    "client = MongoClient('167.99.145.231',\n",
    "                     username='admin',\n",
    "                     password='1234567a@',\n",
    "                     authSource='admin')\n",
    "db = client['test-yt']"
   ]
  },
  {
   "cell_type": "code",
   "execution_count": 124,
   "metadata": {},
   "outputs": [
    {
     "name": "stdout",
     "output_type": "stream",
     "text": [
      "Mozilla/5.0 (Macintosh; Intel Mac OS X 10_9_5) AppleWebKit/537.36 (KHTML, like Gecko) Chrome/44.0.2403.155 Safari/537.36 OPR/31.0.1889.174\n"
     ]
    }
   ],
   "source": [
    "totals = db.agents.count_documents({'status': True})\n",
    "agent = db.agents.find({'status': True}).limit(-1).skip(random.randint(0, totals)).next()\n",
    "print(agent['name'])\n",
    "browser = create_browser(agent)\n",
    "browser.set_window_size(1920, 1080)\n",
    "browser.set_window_position(0, 0)\n",
    "browser.maximize_window()\n",
    "browser.get('https://youtube.com')"
   ]
  },
  {
   "cell_type": "code",
   "execution_count": 125,
   "metadata": {
    "scrolled": true
   },
   "outputs": [
    {
     "name": "stdout",
     "output_type": "stream",
     "text": [
      "6\n",
      "Can not start video\n",
      "Can not start video\n",
      "Can not start video\n",
      "Can not start video\n"
     ]
    }
   ],
   "source": [
    "keyword = \"abraham qd12\"\n",
    "get_urls_from_youtube(keyword)"
   ]
  },
  {
   "cell_type": "markdown",
   "metadata": {},
   "source": [
    "## check valid user agent"
   ]
  },
  {
   "cell_type": "code",
   "execution_count": 126,
   "metadata": {
    "scrolled": true
   },
   "outputs": [],
   "source": [
    "# db = client['test-yt']\n",
    "# while True:\n",
    "#     agent = db.agents.find_one({'status': False})\n",
    "#     if agent is None:\n",
    "#         break\n",
    "        \n",
    "#     profile.set_preference(\"general.useragent.override\", agent['name'])\n",
    "#     browser = webdriver.Firefox(\n",
    "#         executable_path=geckodriver,\n",
    "#         firefox_options=options,\n",
    "#         capabilities=capabilities,\n",
    "#         firefox_binary=binary,\n",
    "#         firefox_profile=profile)\n",
    "#     browser.set_window_size(1920, 1080)\n",
    "#     browser.set_window_position(0, 0)\n",
    "#     browser.maximize_window()\n",
    "#     browser.get('https://www.youtube.com')\n",
    "#     try:\n",
    "#         WebDriverWait(browser, 3).until(EC.presence_of_element_located((By.ID, \"video-title\")))\n",
    "#         db.agents.update_one({'_id': agent['_id']}, {'$set': {'status': True}})\n",
    "#     except Exception as ex:\n",
    "#         db.agents.delete_one({'_id': agent['_id']})\n",
    "#     browser.close()"
   ]
  }
 ],
 "metadata": {
  "kernelspec": {
   "display_name": "Python 3",
   "language": "python",
   "name": "python3"
  },
  "language_info": {
   "codemirror_mode": {
    "name": "ipython",
    "version": 3
   },
   "file_extension": ".py",
   "mimetype": "text/x-python",
   "name": "python",
   "nbconvert_exporter": "python",
   "pygments_lexer": "ipython3",
   "version": "3.6.5"
  }
 },
 "nbformat": 4,
 "nbformat_minor": 2
}
