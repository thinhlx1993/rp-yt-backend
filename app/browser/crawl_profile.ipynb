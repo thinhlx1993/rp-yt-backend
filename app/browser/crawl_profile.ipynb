{
 "cells": [
  {
   "cell_type": "code",
   "execution_count": 2,
   "metadata": {},
   "outputs": [],
   "source": [
    "# coding=utf-8\n",
    "import sys\n",
    "import re\n",
    "import time\n",
    "import random\n",
    "import requests\n",
    "from pymongo import MongoClient\n",
    "from time import sleep\n",
    "from bson import ObjectId\n",
    "from selenium import webdriver\n",
    "from selenium.webdriver.common.desired_capabilities import DesiredCapabilities\n",
    "from selenium.common.exceptions import NoSuchElementException\n",
    "from selenium.webdriver.common.keys import Keys\n",
    "import selenium.webdriver.support.ui as ui\n",
    "from selenium.webdriver.common.by import By\n",
    "from selenium.webdriver.support import expected_conditions\n",
    "from selenium.webdriver.support.wait import WebDriverWait\n",
    "from selenium.webdriver.support import expected_conditions as EC"
   ]
  },
  {
   "cell_type": "code",
   "execution_count": 3,
   "metadata": {},
   "outputs": [],
   "source": [
    "client = MongoClient('167.99.145.231', username='admin', password='1234567a@', authSource='admin')\n",
    "db = client['test-yt']"
   ]
  },
  {
   "cell_type": "code",
   "execution_count": 4,
   "metadata": {},
   "outputs": [],
   "source": [
    "def create_browser():\n",
    "    capabilities = DesiredCapabilities.FIREFOX.copy()\n",
    "    capabilities['marionette'] = True\n",
    "    capabilities['acceptSslCerts'] = True\n",
    "    profile = webdriver.FirefoxProfile()\n",
    "    profile.set_preference(\"browser.privatebrowsing.autostart\", True)\n",
    "    profile.set_preference(\"browser.cache.disk.enable\", False)\n",
    "    profile.set_preference(\"browser.cache.memory.enable\", False)\n",
    "    profile.set_preference(\"browser.cache.offline.enable\", False)\n",
    "    profile.set_preference(\"network.http.use-cache\", False)\n",
    "    profile.set_preference(\"media.volume_scale\", \"0.0\")\n",
    "    options = webdriver.FirefoxOptions()\n",
    "\n",
    "    print(sys.platform)\n",
    "    if sys.platform == 'win32':\n",
    "        geckodriver = '../../etc/geckodriver-v0.21.0-win64/geckodriver.exe'\n",
    "        binary = 'C:/Program Files/Mozilla Firefox/firefox.exe'\n",
    "    else:\n",
    "        geckodriver = 'etc/geckodriver-v0.21.0-linux64/geckodriver'\n",
    "        binary = '/usr/bin/firefox'\n",
    "        options.add_argument('-headless')\n",
    "    driver = webdriver.Firefox(\n",
    "        executable_path=geckodriver,\n",
    "        firefox_options=options,\n",
    "        capabilities=capabilities,\n",
    "        firefox_binary=binary,\n",
    "        firefox_profile=profile)\n",
    "    driver.set_window_size(1920, 1080)\n",
    "    driver.set_window_position(0, 0)\n",
    "    return driver"
   ]
  },
  {
   "cell_type": "markdown",
   "metadata": {},
   "source": [
    "# Crawler profile"
   ]
  },
  {
   "cell_type": "code",
   "execution_count": 5,
   "metadata": {},
   "outputs": [],
   "source": [
    "# browser = create_browser()\n",
    "# browser.get('https://www.randomlists.com/random-mac-addresses')"
   ]
  },
  {
   "cell_type": "code",
   "execution_count": 6,
   "metadata": {
    "scrolled": true
   },
   "outputs": [],
   "source": [
    "# for i in range(500):\n",
    "#     browser.find_element_by_css_selector('.Rand-tools2 > button:nth-child(1)').click()\n",
    "#     elements = browser.find_elements_by_css_selector('.Rand-stage > ol > li > div')\n",
    "#     items = []\n",
    "#     for element in elements:\n",
    "#         info = dict(\n",
    "#             _id=ObjectId(),\n",
    "#             mac='',\n",
    "#             created_date=int(time.time())\n",
    "#         )\n",
    "#         info['mac'] = element.text\n",
    "#         items.append(info)\n",
    "#     db.mac_address.insert_many(items)"
   ]
  },
  {
   "cell_type": "code",
   "execution_count": 7,
   "metadata": {},
   "outputs": [],
   "source": [
    "# for i in range(1000):\n",
    "#     info = dict(\n",
    "#         country='United States',\n",
    "#         gender='male',\n",
    "#         state='American'\n",
    "#     )\n",
    "#     browser.get('https://www.fakenamegenerator.com/gen-random-us-us.php')\n",
    "#     name = browser.find_element_by_css_selector('.address > h3')\n",
    "#     info['name'] = name.text\n",
    "#     address = browser.find_element_by_css_selector('.adr')\n",
    "#     address = address.text.split('\\n')\n",
    "#     info['address_1'] = address[0]\n",
    "#     info['address_2'] = address[1]\n",
    "#     cities = address[1].split(',')\n",
    "#     info['city'] = cities[0]\n",
    "#     postal_code = re.search(r'.*(\\d{5}(\\-\\d{4})?)$', address[1])\n",
    "#     print(postal_code.groups())\n",
    "#     info['zip_code'] = postal_code[1]\n",
    "#     data_dl = browser.find_elements_by_class_name('dl-horizontal')\n",
    "#     for item in data_dl:\n",
    "#         title = item.find_element_by_tag_name('dt')\n",
    "#         if title.text == 'Phone':\n",
    "#             phone = item.find_element_by_tag_name('dd')\n",
    "#             info['phone'] = phone.text\n",
    "#     db.fake_user.insert_one(info)"
   ]
  },
  {
   "cell_type": "markdown",
   "metadata": {},
   "source": [
    "# Crawl proxy"
   ]
  },
  {
   "cell_type": "code",
   "execution_count": 13,
   "metadata": {},
   "outputs": [
    {
     "name": "stdout",
     "output_type": "stream",
     "text": [
      "win32\n"
     ]
    }
   ],
   "source": [
    "browser = create_browser()\n",
    "\n"
   ]
  },
  {
   "cell_type": "code",
   "execution_count": 29,
   "metadata": {
    "scrolled": true
   },
   "outputs": [
    {
     "name": "stdout",
     "output_type": "stream",
     "text": [
      "36.77.183.148:53670\n",
      "110.232.248.194:43041\n",
      "80.237.20.147:45886\n",
      "90.161.43.87:59827\n",
      "201.184.152.10:31844\n",
      "5.166.49.85:8080\n",
      "194.187.150.213:38406\n",
      "31.135.200.66:43015\n",
      "103.15.80.177:40699\n",
      "103.21.161.103:43277\n",
      "77.91.134.54:8080\n",
      "151.237.130.135:60614\n",
      "200.60.79.11:53281\n",
      "87.226.171.12:8080\n",
      "37.75.135.6:38758\n",
      "181.192.7.249:53281\n",
      "88.83.201.249:41258\n",
      "43.224.8.10:6666\n",
      "220.233.137.210:54654\n",
      "89.43.38.229:8080\n"
     ]
    }
   ],
   "source": [
    "browser.get('https://free-proxy-list.net/')\n",
    "items = browser.find_elements_by_class_name('odd')\n",
    "items += browser.find_elements_by_class_name('even')\n",
    "for item in items:\n",
    "    tds = item.find_elements_by_tag_name('td')\n",
    "    print(\"{}:{}\".format(tds[0].text, tds[1].text))"
   ]
  },
  {
   "cell_type": "code",
   "execution_count": 115,
   "metadata": {},
   "outputs": [],
   "source": [
    "\n"
   ]
  },
  {
   "cell_type": "code",
   "execution_count": 116,
   "metadata": {},
   "outputs": [
    {
     "name": "stdout",
     "output_type": "stream",
     "text": [
      "b'\\r\\nPinging 200.116.108.64 with 32 bytes of data:\\r\\nReply from 200.116.108.64: bytes=32 time=465ms TTL=41\\r\\n\\r\\nPing statistics for 200.116.108.64:\\r\\n    Packets: Sent = 1, Received = 1, Lost = 0 (0% loss),\\r\\nApproximate round trip times in milli-seconds:\\r\\n    Minimum = 465ms, Maximum = 465ms, Average = 465ms\\r\\n'\n",
      "465\n"
     ]
    },
    {
     "data": {
      "text/plain": [
       "False"
      ]
     },
     "execution_count": 116,
     "metadata": {},
     "output_type": "execute_result"
    }
   ],
   "source": [
    "pingstatus = pingOk('200.116.108.64')\n",
    "pingstatus"
   ]
  }
 ],
 "metadata": {
  "kernelspec": {
   "display_name": "Python 3",
   "language": "python",
   "name": "python3"
  },
  "language_info": {
   "codemirror_mode": {
    "name": "ipython",
    "version": 3
   },
   "file_extension": ".py",
   "mimetype": "text/x-python",
   "name": "python",
   "nbconvert_exporter": "python",
   "pygments_lexer": "ipython3",
   "version": "3.6.5"
  }
 },
 "nbformat": 4,
 "nbformat_minor": 2
}
