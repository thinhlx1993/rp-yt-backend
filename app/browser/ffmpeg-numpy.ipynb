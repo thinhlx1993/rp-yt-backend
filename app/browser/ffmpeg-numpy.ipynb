{
 "cells": [
  {
   "cell_type": "code",
   "execution_count": 5,
   "metadata": {},
   "outputs": [
    {
     "name": "stdout",
     "output_type": "stream",
     "text": [
      "\n",
      "[MoviePy] Running:\n",
      ">>> C:\\Users\\ThinhPC\\AppData\\Local\\imageio\\ffmpeg\\ffmpeg-win32-v3.2.4.exe -y -i test.mp4 -ss 10.00 -t 10.00 -vcodec copy -acodec copy test1.mp4\n",
      "... command successful.\n"
     ]
    }
   ],
   "source": [
    "t1 = 10\n",
    "t2 = 20\n",
    "from moviepy.video.io.ffmpeg_tools import ffmpeg_extract_subclip\n",
    "ffmpeg_extract_subclip(\"test.mp4\", t1, t2, targetname=\"test1.mp4\")"
   ]
  },
  {
   "cell_type": "code",
   "execution_count": 1,
   "metadata": {
    "scrolled": true
   },
   "outputs": [],
   "source": [
    "from moviepy.video.io.VideoFileClip import VideoFileClip\n",
    "clip = VideoFileClip(\"test.mp4\")\n",
    "duration = clip.duration\n",
    "clip.close()"
   ]
  },
  {
   "cell_type": "code",
   "execution_count": 25,
   "metadata": {
    "scrolled": true
   },
   "outputs": [
    {
     "name": "stdout",
     "output_type": "stream",
     "text": [
      "\n",
      "[MoviePy] Running:\n",
      ">>> C:\\Users\\ThinhPC\\AppData\\Local\\imageio\\ffmpeg\\ffmpeg-win32-v3.2.4.exe -y -i test.mp4 -ss 0.00 -t 10.00 -vcodec copy -acodec copy test1.mp4\n",
      "... command successful.\n",
      "\n",
      "[MoviePy] Running:\n",
      ">>> C:\\Users\\ThinhPC\\AppData\\Local\\imageio\\ffmpeg\\ffmpeg-win32-v3.2.4.exe -y -i test.mp4 -ss 20.00 -t 273.18 -vcodec copy -acodec copy test2.mp4\n",
      "... command successful.\n"
     ]
    }
   ],
   "source": [
    "ffmpeg_extract_subclip(\"test.mp4\", 0, t1, targetname=\"test1.mp4\", )\n",
    "ffmpeg_extract_subclip(\"test.mp4\", t2, duration, targetname=\"test2.mp4\")"
   ]
  },
  {
   "cell_type": "code",
   "execution_count": 4,
   "metadata": {
    "scrolled": true
   },
   "outputs": [
    {
     "name": "stdout",
     "output_type": "stream",
     "text": [
      "[MoviePy] >>>> Building video composition.mp4\n",
      "[MoviePy] Writing audio in compositionTEMP_MPY_wvf_snd.mp3\n"
     ]
    },
    {
     "name": "stderr",
     "output_type": "stream",
     "text": [
      "100%|██████████████████████████████████████████████████████████████████████████████████████████████████████████████████████████████████████████████████████████████████████████████████████████████████████████████████████████| 2276/2276 [00:02<00:00, 766.28it/s]\n"
     ]
    },
    {
     "name": "stdout",
     "output_type": "stream",
     "text": [
      "[MoviePy] Done.\n",
      "[MoviePy] Writing video composition.mp4\n"
     ]
    },
    {
     "name": "stderr",
     "output_type": "stream",
     "text": [
      "100%|███████████████████████████████████████████████████████████████████████████████████████████████████████████████████████████████████████████████████████████████████████████████████████████████████████████████████████████| 2477/2477 [00:40<00:00, 61.26it/s]\n"
     ]
    },
    {
     "name": "stdout",
     "output_type": "stream",
     "text": [
      "[MoviePy] Done.\n",
      "[MoviePy] >>>> Video ready: composition.mp4 \n",
      "\n"
     ]
    }
   ],
   "source": [
    "import moviepy.editor as mp\n",
    "t1 = 10\n",
    "t2 = 200\n",
    "video1 = mp.VideoFileClip('test.mp4').subclip(0, t1)\n",
    "video2 = mp.VideoFileClip('test.mp4').subclip(t2, duration)\n",
    "\n",
    "final_video = mp.concatenate_videoclips([video1, video2])\n",
    "final_video.write_videofile('composition.mp4')"
   ]
  },
  {
   "cell_type": "code",
   "execution_count": 1,
   "metadata": {
    "scrolled": true
   },
   "outputs": [
    {
     "data": {
      "text/plain": [
       "0"
      ]
     },
     "execution_count": 1,
     "metadata": {},
     "output_type": "execute_result"
    }
   ],
   "source": [
    "import subprocess\n",
    "subprocess.call('ffmpeg -y -i \"composition.mp4\" -af \"pan=stereo|c0<c0+0*c3|c1<c1+0*c2,aeval=val(0)|-val(1),volume=1.3,bass=frequency=110:gain=-50,bass=g=3:f=110:w=1,bass=g=3:f=110:w=2,bass=g=3:f=110:w=3,bass=g=3:f=110:w=4,bass=g=3:f=110:w=5\" -filter_complex \"scale=1280:720,setdar=16/9\" -vcodec libx264 -pix_fmt yuv420p -r 30 -g 60 -b:v 1400k -profile:v main -level 3.1 -acodec libmp3lame -b:a 128k -ar 44100 -threads 0 -preset superfast \"output.mp4\"')"
   ]
  },
  {
   "cell_type": "code",
   "execution_count": 14,
   "metadata": {},
   "outputs": [],
   "source": [
    "def login(browser, email, password, recovery_email, phone):\n",
    "    try:\n",
    "        print(phone)\n",
    "        browser.get('https://www.youtube.com/')\n",
    "        WebDriverWait(browser, 30).until(EC.presence_of_element_located((By.CSS_SELECTOR, \"ytd-button-renderer.style-scope:nth-child(5) > a:nth-child(1)\")))\n",
    "        # sign_in_btn = browser.find_element_by_css_selector('a.yt-simple-endpoint.style-scope.ytd-button-renderer')\n",
    "        sign_in_btn = browser.find_element_by_css_selector('ytd-button-renderer.style-scope:nth-child(5) > a:nth-child(1)')\n",
    "        sign_in_btn.click()\n",
    "\n",
    "        WebDriverWait(browser, 30).until(EC.presence_of_element_located((By.ID, \"identifierId\")))\n",
    "        email_inp = browser.find_element_by_id('identifierId')\n",
    "        email_inp.send_keys(email)\n",
    "        browser.find_element_by_id('identifierNext').click()  # đi đến trang nhập password\n",
    "        sleep(3)\n",
    "        WebDriverWait(browser, 30).until(EC.presence_of_element_located((By.CSS_SELECTOR, \"#headingText > content\")))\n",
    "        heading_text = browser.find_element_by_css_selector('#headingText > content')\n",
    "        if heading_text.text == 'Welcome':\n",
    "            print(heading_text.text)\n",
    "        elif heading_text.text == 'Account disabled':\n",
    "            return 'disabled'\n",
    "\n",
    "        WebDriverWait(browser, 30).until(EC.presence_of_element_located((By.CSS_SELECTOR, \"input.whsOnd.zHQkBf\")))\n",
    "        password_inp = browser.find_element_by_css_selector('input.whsOnd.zHQkBf')\n",
    "        password_inp.send_keys(password)\n",
    "        WebDriverWait(browser, 30).until(EC.presence_of_element_located((By.ID, \"passwordNext\")))\n",
    "        browser.find_element_by_id('passwordNext').click()\n",
    "        try:\n",
    "            WebDriverWait(browser, 30).until(EC.text_to_be_present_in_element((By.ID, \"headingText\"), 'Verify it\\'s you'))\n",
    "            print('Verify account')\n",
    "            recovery_options = browser.find_elements_by_class_name('vdE7Oc')\n",
    "            for recovery_option in recovery_options:\n",
    "                print(recovery_option.text)\n",
    "                if recovery_option.text == 'Confirm your recovery phone number':\n",
    "                    print('Confirm your recovery phone number')\n",
    "                    recovery_option.click()\n",
    "                    sleep(2)\n",
    "                    loop_time = 0\n",
    "                    while loop_time < 15:\n",
    "                        try:\n",
    "                            phone_number_inp = browser.find_element_by_id('phoneNumberId')\n",
    "                            phone_number_inp.click()\n",
    "                            print(phone)\n",
    "                            phone_number_inp.send_keys(phone)\n",
    "                            WebDriverWait(browser, 30).until(EC.presence_of_element_located((By.CSS_SELECTOR, \".zZhnYe\")))\n",
    "                            next_btn = browser.find_element_by_css_selector('.zZhnYe')\n",
    "                            next_btn.click()\n",
    "                            browser.execute_script(\"arguments[0].click();\", next_btn)\n",
    "                            break\n",
    "                        except:\n",
    "                            phone_number_inp.clear()\n",
    "                            loop_time+=1\n",
    "                            pass\n",
    "                    \n",
    "                    \n",
    "                    \n",
    "                elif recovery_option.text == 'Need to input recovery email':\n",
    "                    print('Need to input recovery email')\n",
    "                    recovery_option.click()\n",
    "                    sleep(2)\n",
    "                    while True:\n",
    "                        try:\n",
    "                            recovery_inp = browser.find_element_by_id('knowledge-preregistered-email-response')\n",
    "                            recovery_inp.click()\n",
    "                            recovery_inp.send_keys(recovery_email)\n",
    "            \n",
    "                            next_btn = browser.find_element_by_id('next')\n",
    "                            browser.execute_script(\"arguments[0].click();\", next_btn)\n",
    "                            break\n",
    "                        except:\n",
    "                            pass\n",
    "                        \n",
    "            WebDriverWait(browser, 30).until(EC.text_to_be_present_in_element((By.ID, \"headingText\"), 'Account Disabled'))\n",
    "            return 'disabled'\n",
    "\n",
    "        except Exception as ex:\n",
    "            print('No need to input recovery email: {}'.format(str(ex)))\n",
    "\n",
    "        try:\n",
    "            # check protected account\n",
    "            title = browser.find_element_by_class_name('N4lOwd')\n",
    "            if title and title.text == 'Protect your account':\n",
    "                done_btn = browser.find_element_by_class_name('CwaK9')\n",
    "                done_btn.click()\n",
    "        except Exception as ex:\n",
    "            pass\n",
    "\n",
    "        ui.WebDriverWait(browser, 10).until(expected_conditions.url_matches('https://www.youtube.com'))\n",
    "        print('Login success')\n",
    "        return 'success'\n",
    "    except Exception as ex:\n",
    "        print('Login failed: {}'.format(str(ex)))\n",
    "        return 'fail'\n"
   ]
  },
  {
   "cell_type": "code",
   "execution_count": 18,
   "metadata": {},
   "outputs": [],
   "source": [
    "import sys\n",
    "from time import sleep\n",
    "from selenium import webdriver\n",
    "from selenium.webdriver.common.desired_capabilities import DesiredCapabilities\n",
    "from selenium.common.exceptions import NoSuchElementException\n",
    "from selenium.webdriver.common.keys import Keys\n",
    "import selenium.webdriver.support.ui as ui\n",
    "from selenium.webdriver.common.by import By\n",
    "from selenium.webdriver.support import expected_conditions\n",
    "from selenium.webdriver.support.wait import WebDriverWait\n",
    "from selenium.webdriver.support import expected_conditions as EC\n",
    "from selenium.webdriver.common.action_chains import ActionChains\n",
    "from selenium.webdriver.common.keys import Keys\n",
    "\n",
    "def create_browser():\n",
    "    capabilities = DesiredCapabilities.FIREFOX.copy()\n",
    "    capabilities['marionette'] = True\n",
    "    capabilities['acceptSslCerts'] = True\n",
    "    profile = webdriver.FirefoxProfile()\n",
    "    profile.set_preference(\"browser.privatebrowsing.autostart\", True)\n",
    "    profile.set_preference(\"browser.cache.disk.enable\", False)\n",
    "    profile.set_preference(\"browser.cache.memory.enable\", False)\n",
    "    profile.set_preference(\"browser.cache.offline.enable\", False)\n",
    "    profile.set_preference(\"network.http.use-cache\", False)\n",
    "    profile.set_preference(\"media.volume_scale\", \"0.0\")\n",
    "        \n",
    "    options = webdriver.FirefoxOptions()\n",
    "    \n",
    "    print(sys.platform)\n",
    "    if sys.platform == 'win32':\n",
    "        geckodriver = '../..//etc/geckodriver-v0.21.0-win64/geckodriver.exe'\n",
    "        binary = 'C:/Program Files/Mozilla Firefox/firefox.exe'\n",
    "        # options.add_argument('--headless')\n",
    "    else:\n",
    "        geckodriver = 'etc/geckodriver-v0.21.0-linux64/geckodriver'\n",
    "        binary = '/usr/bin/firefox'\n",
    "        options.add_argument('--headless')\n",
    "    \n",
    "    browser = webdriver.Firefox(\n",
    "        executable_path=geckodriver,\n",
    "        firefox_options=options,\n",
    "        capabilities=capabilities,\n",
    "        firefox_binary=binary,\n",
    "        firefox_profile=profile)\n",
    "    browser.maximize_window()\n",
    "    return browser\n",
    "    "
   ]
  },
  {
   "cell_type": "code",
   "execution_count": 13,
   "metadata": {},
   "outputs": [
    {
     "name": "stdout",
     "output_type": "stream",
     "text": [
      "win32\n"
     ]
    }
   ],
   "source": [
    "browser = create_browser()"
   ]
  },
  {
   "cell_type": "code",
   "execution_count": 19,
   "metadata": {
    "scrolled": true
   },
   "outputs": [
    {
     "name": "stdout",
     "output_type": "stream",
     "text": [
      "1667283166\n",
      "Welcome\n",
      "Verify account\n",
      "Get a verification code at •••• ••• ••66\n",
      "Standard rates apply\n",
      "Call your phone on file •••• ••• ••66\n",
      "Confirm your recovery phone number\n",
      "Confirm your recovery phone number\n",
      "1667283166\n",
      "No need to input recovery email: Message: The element reference of <div class=\"vdE7Oc\"> is stale; either the element is no longer attached to the DOM, it is not in the current frame context, or the document has been refreshed\n",
      "\n",
      "Login failed: Message: \n",
      "\n"
     ]
    },
    {
     "data": {
      "text/plain": [
       "'fail'"
      ]
     },
     "execution_count": 19,
     "metadata": {},
     "output_type": "execute_result"
    }
   ],
   "source": [
    "email, password, recovery_email, phone = 'howellmorgan1225', '1234567a@', 'howellmorgan1225@yahoo.com', '1667283166'\n",
    "login(browser, email, password, recovery_email, phone)"
   ]
  },
  {
   "cell_type": "code",
   "execution_count": 23,
   "metadata": {},
   "outputs": [],
   "source": [
    "buttons = browser.find_elements_by_id('avatar-btn')\n",
    "for button in buttons:\n",
    "    if button.get_attribute('aria-label') == 'Account profile photo that opens list of alternate accounts':\n",
    "        button.click()"
   ]
  },
  {
   "cell_type": "code",
   "execution_count": 24,
   "metadata": {},
   "outputs": [],
   "source": [
    "channels_btn = browser.find_elements_by_id('label')\n",
    "for channel_btn in channels_btn:\n",
    "    if channel_btn.text == 'My channel':\n",
    "        channel_btn.click()"
   ]
  },
  {
   "cell_type": "code",
   "execution_count": 42,
   "metadata": {},
   "outputs": [],
   "source": [
    "browser.get('https://www.youtube.com/upload')"
   ]
  },
  {
   "cell_type": "code",
   "execution_count": 47,
   "metadata": {},
   "outputs": [],
   "source": [
    "import os\n",
    "input_file = browser.find_element_by_css_selector('#upload-prompt-box > input:nth-child(2)')\n",
    "browser.execute_script(\"arguments[0].setAttribute('style','visibility:visible;')\", input_file)\n",
    "browser.execute_script(\"arguments[0].setAttribute('style','height:40px;')\", input_file)\n",
    "input_file.send_keys(os.getcwd()+\"\\\\test.mp4\")"
   ]
  }
 ],
 "metadata": {
  "kernelspec": {
   "display_name": "Python 3",
   "language": "python",
   "name": "python3"
  },
  "language_info": {
   "codemirror_mode": {
    "name": "ipython",
    "version": 3
   },
   "file_extension": ".py",
   "mimetype": "text/x-python",
   "name": "python",
   "nbconvert_exporter": "python",
   "pygments_lexer": "ipython3",
   "version": "3.6.5"
  }
 },
 "nbformat": 4,
 "nbformat_minor": 2
}
