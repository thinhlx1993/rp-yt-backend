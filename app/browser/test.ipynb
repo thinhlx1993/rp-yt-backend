{
 "cells": [
  {
   "cell_type": "code",
   "execution_count": 4,
   "metadata": {
    "scrolled": true
   },
   "outputs": [
    {
     "name": "stdout",
     "output_type": "stream",
     "text": [
      "win32\n"
     ]
    }
   ],
   "source": [
    "# coding=utf-8\n",
    "import sys\n",
    "import random\n",
    "import requests\n",
    "from time import sleep\n",
    "from bson import ObjectId\n",
    "from selenium import webdriver\n",
    "from selenium.webdriver.common.desired_capabilities import DesiredCapabilities\n",
    "from selenium.common.exceptions import NoSuchElementException\n",
    "from selenium.webdriver.common.keys import Keys\n",
    "import selenium.webdriver.support.ui as ui\n",
    "from selenium.webdriver.common.by import By\n",
    "from selenium.webdriver.support import expected_conditions\n",
    "from selenium.webdriver.support.wait import WebDriverWait\n",
    "from selenium.webdriver.support import expected_conditions as EC\n",
    "\n",
    "api_key = '094c2420f179731334edccbf176dbd79'\n",
    "capabilities = DesiredCapabilities.FIREFOX.copy()\n",
    "capabilities['marionette'] = True\n",
    "capabilities['acceptSslCerts'] = True\n",
    "profile = webdriver.FirefoxProfile()\n",
    "profile.set_preference(\"browser.privatebrowsing.autostart\", True)\n",
    "profile.set_preference(\"browser.cache.disk.enable\", False)\n",
    "profile.set_preference(\"browser.cache.memory.enable\", False)\n",
    "profile.set_preference(\"browser.cache.offline.enable\", False)\n",
    "profile.set_preference(\"network.http.use-cache\", False)\n",
    "profile.set_preference(\"media.volume_scale\", \"0.0\")\n",
    "options = webdriver.FirefoxOptions()\n",
    "\n",
    "print(sys.platform)\n",
    "if sys.platform == 'win32':\n",
    "    geckodriver = '../../etc/geckodriver-v0.21.0-win64/geckodriver.exe'\n",
    "    binary = 'C:/Program Files/Mozilla Firefox/firefox.exe'\n",
    "else:\n",
    "    geckodriver = 'etc/geckodriver-v0.21.0-linux64/geckodriver'\n",
    "    binary = '/usr/bin/firefox'\n",
    "    options.add_argument('--headless')"
   ]
  },
  {
   "cell_type": "markdown",
   "metadata": {},
   "source": [
    "## Create browser"
   ]
  },
  {
   "cell_type": "code",
   "execution_count": 14,
   "metadata": {},
   "outputs": [],
   "source": [
    "browser = webdriver.Firefox(\n",
    "    executable_path=geckodriver,\n",
    "    firefox_options=options,\n",
    "    capabilities=capabilities,\n",
    "    firefox_binary=binary,\n",
    "    firefox_profile=profile)\n",
    "browser.set_window_size(1920, 1080)\n",
    "browser.set_window_position(0, 0)\n",
    "browser.maximize_window()\n",
    "login_status = False"
   ]
  },
  {
   "cell_type": "code",
   "execution_count": 7,
   "metadata": {},
   "outputs": [],
   "source": [
    "browser.get('https://youtube.com')"
   ]
  },
  {
   "cell_type": "code",
   "execution_count": 12,
   "metadata": {},
   "outputs": [],
   "source": [
    "from pymongo import MongoClient\n",
    "client = MongoClient('167.99.145.231',\n",
    "                     username='admin',\n",
    "                     password='1234567a@',\n",
    "                     authSource='admin')"
   ]
  },
  {
   "cell_type": "code",
   "execution_count": null,
   "metadata": {},
   "outputs": [],
   "source": [
    "# import time\n",
    "# for i in range(3552):\n",
    "#     browser.get('https://developers.whatismybrowser.com/useragents/explore/operating_system_name/windows/{}'.format(i))\n",
    "#     useragents = browser.find_elements_by_css_selector('td.useragent > a')\n",
    "#     for agent in useragents:\n",
    "#         exist = client['test-yt'].agents.find_one({'name': agent.text})\n",
    "#         if not exist:\n",
    "#             new_item = dict(\n",
    "#                 name=agent.text,\n",
    "#                 create_date=int(time.time())\n",
    "#             )\n",
    "#             client['test-yt'].agents.insert_one(new_item)\n",
    "#             print(agent.text)\n",
    "#         else:\n",
    "#             print('exist')"
   ]
  }
 ],
 "metadata": {
  "kernelspec": {
   "display_name": "Python 3",
   "language": "python",
   "name": "python3"
  },
  "language_info": {
   "codemirror_mode": {
    "name": "ipython",
    "version": 3
   },
   "file_extension": ".py",
   "mimetype": "text/x-python",
   "name": "python",
   "nbconvert_exporter": "python",
   "pygments_lexer": "ipython3",
   "version": "3.6.5"
  }
 },
 "nbformat": 4,
 "nbformat_minor": 2
}
