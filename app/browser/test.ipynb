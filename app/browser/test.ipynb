{
 "cells": [
  {
   "cell_type": "code",
   "execution_count": 3,
   "metadata": {
    "scrolled": true
   },
   "outputs": [],
   "source": [
    "# coding=utf-8\n",
    "import random\n",
    "import requests\n",
    "import selenium.webdriver.support.ui as ui\n",
    "from time import sleep\n",
    "from selenium import webdriver\n",
    "from selenium.webdriver.common.proxy import Proxy, ProxyType\n",
    "from selenium.webdriver.common.desired_capabilities import DesiredCapabilities\n",
    "from selenium.common.exceptions import NoSuchElementException\n",
    "from selenium.webdriver.common.keys import Keys\n",
    "from selenium.webdriver.common.by import By\n",
    "from selenium.webdriver.support import expected_conditions\n",
    "from selenium.webdriver.support.wait import WebDriverWait\n",
    "from selenium.webdriver.support import expected_conditions as EC\n",
    "from custom_conditions import element_has_css_class\n",
    "from solve_recaptcha import write_stat, check_exists_by_xpath, wait_between, dimention, solve_images\n",
    "from untils import find_report_link, watch_videos\n",
    "\n",
    "geckodriver = 'C:\\\\Users\\\\Thinh\\\\Code\\\\rp-yt-backend\\\\etc\\\\geckodriver-v0.21.0-win64\\\\geckodriver.exe'\n",
    "binary = 'C:\\\\Program Files\\\\Mozilla Firefox\\\\firefox.exe'\n",
    "# geckodriver = '/opt/rp-yt-backend/etc/geckodriver-v0.21.0-linux64/geckodriver'\n",
    "# binary = '/usr/bin/firefox'\n",
    "api_key = '094c2420f179731334edccbf176dbd79'\n",
    "PROXY_HOST = '93.155.250.92'\n",
    "PROXY_PORT = '8080'\n",
    "capabilities = DesiredCapabilities.FIREFOX.copy()\n",
    "capabilities['marionette'] = True\n",
    "capabilities['acceptSslCerts'] = True"
   ]
  },
  {
   "cell_type": "code",
   "execution_count": 4,
   "metadata": {},
   "outputs": [],
   "source": [
    "def create_browser():\n",
    "    profile = webdriver.FirefoxProfile()\n",
    "    profile.set_preference(\"browser.privatebrowsing.autostart\", True)\n",
    "    profile.set_preference(\"browser.cache.disk.enable\", False)\n",
    "    profile.set_preference(\"browser.cache.memory.enable\", False)\n",
    "    profile.set_preference(\"browser.cache.offline.enable\", False)\n",
    "    profile.set_preference(\"network.http.use-cache\", False)\n",
    "    options = webdriver.FirefoxOptions()\n",
    "    # options.add_argument('-headless')\n",
    "    browser = webdriver.Firefox(\n",
    "        executable_path=geckodriver,\n",
    "        firefox_options=options,\n",
    "        capabilities=capabilities,\n",
    "        firefox_binary=binary,\n",
    "        firefox_profile=profile)\n",
    "    browser.set_window_size(1920, 1080)\n",
    "    browser.set_window_position(0, 0)\n",
    "    return browser"
   ]
  },
  {
   "cell_type": "markdown",
   "metadata": {},
   "source": [
    "# Login"
   ]
  },
  {
   "cell_type": "code",
   "execution_count": 5,
   "metadata": {
    "scrolled": false
   },
   "outputs": [],
   "source": [
    "def login(browser, email, password, recovery_mail):\n",
    "    try:\n",
    "        browser.get('https://www.youtube.com/')\n",
    "        WebDriverWait(browser, 30).until(EC.presence_of_element_located((By.CSS_SELECTOR, \"ytd-button-renderer.style-scope:nth-child(5) > a:nth-child(1)\")))\n",
    "        # sign_in_btn = browser.find_element_by_css_selector('a.yt-simple-endpoint.style-scope.ytd-button-renderer')\n",
    "        sign_in_btn = browser.find_element_by_css_selector('ytd-button-renderer.style-scope:nth-child(5) > a:nth-child(1)')\n",
    "        sign_in_btn.click()\n",
    "\n",
    "        WebDriverWait(browser, 30).until(EC.presence_of_element_located((By.ID, \"identifierId\")))\n",
    "        email_inp = browser.find_element_by_id('identifierId')\n",
    "        email_inp.send_keys(email)\n",
    "        browser.find_element_by_id('identifierNext').click()  # đi đến trang nhập password\n",
    "        sleep(3)\n",
    "        WebDriverWait(browser, 30).until(EC.presence_of_element_located((By.CSS_SELECTOR, \"#headingText > content\")))\n",
    "        heading_text = browser.find_element_by_css_selector('#headingText > content')\n",
    "        if heading_text.text == 'Welcome':\n",
    "            print(heading_text.text)\n",
    "        elif heading_text.text == 'Account disabled':\n",
    "            return False\n",
    "\n",
    "        WebDriverWait(browser, 30).until(EC.presence_of_element_located((By.CSS_SELECTOR, \"input.whsOnd.zHQkBf\")))\n",
    "        password_inp = browser.find_element_by_css_selector('input.whsOnd.zHQkBf')\n",
    "        password_inp.send_keys(password)\n",
    "        WebDriverWait(browser, 30).until(EC.presence_of_element_located((By.ID, \"passwordNext\")))\n",
    "        browser.find_element_by_id('passwordNext').click()\n",
    "        try:\n",
    "            WebDriverWait(browser, 30).until(EC.presence_of_element_located((By.ID, \"headingText\")))\n",
    "            header = browser.find_element_by_id('headingText')\n",
    "            if header and header.text == 'Verify it\\'s you':\n",
    "                print('Need to input recovery email')\n",
    "                # WebDriverWait(browser, 30).until(EC.presence_of_element_located((By.CLASS_NAME, \"vdE7Oc\")))\n",
    "                browser.find_element_by_class_name('vdE7Oc').click()\n",
    "                WebDriverWait(browser, 30).until(EC.presence_of_element_located((By.ID, \"knowledge-preregistered-email-response\")))\n",
    "                recovery_email = browser.find_element_by_id('knowledge-preregistered-email-response')\n",
    "                # browser.execute_script(\"arguments[0].value = '{}'\".format(recovery_mail), recovery_email)\n",
    "                recovery_email.send_keys(recovery_mail)\n",
    "                next_btn = browser.find_element_by_id('next')\n",
    "                browser.execute_script(\"arguments[0].click();\", next_btn)\n",
    "\n",
    "        except Exception as ex:\n",
    "            print('No need to input recovery email: {}'.format(str(ex)))\n",
    "\n",
    "        try:\n",
    "            # check protected account\n",
    "            title = browser.find_element_by_class_name('N4lOwd')\n",
    "            if title and title.text == 'Protect your account':\n",
    "                done_btn = browser.find_element_by_class_name('CwaK9')\n",
    "                done_btn.click()\n",
    "        except Exception as ex:\n",
    "            pass\n",
    "\n",
    "        ui.WebDriverWait(browser, 10).until(expected_conditions.url_matches('https://www.youtube.com'))\n",
    "        print('Login success')\n",
    "        return True\n",
    "    except Exception as ex:\n",
    "        print('Login failed: {}'.format(str(ex)))\n",
    "        return False\n"
   ]
  },
  {
   "cell_type": "markdown",
   "metadata": {},
   "source": [
    "# Submit report"
   ]
  },
  {
   "cell_type": "code",
   "execution_count": 6,
   "metadata": {},
   "outputs": [],
   "source": [
    "def submit_report(browser, report_channel, report_reason_1, report_reason_2, report_note):\n",
    "    browser.get(report_channel + '/videos')\n",
    "    sleep(5)\n",
    "    # check if channel die\n",
    "    try:\n",
    "        text = browser.find_element_by_css_selector('#container > yt-formatted-string')\n",
    "        if text.text == 'This account has been terminated for violating Google\\'s Terms of Service.':\n",
    "            return '2'\n",
    "    except NoSuchElementException as ex:\n",
    "        pass\n",
    "\n",
    "    # watch some videos\n",
    "    try:\n",
    "        videos = browser.find_elements_by_id('video-title')\n",
    "        video = random.choice(videos)\n",
    "        href = video.get_attribute('href')\n",
    "        watch_videos(browser, href)\n",
    "\n",
    "        sleep(random.randint(0, 10))\n",
    "\n",
    "        for i in range(2):\n",
    "            browser.execute_script(\"window.scrollTo(0, {})\".format(random.randint(0, 1080)))\n",
    "            sleep(1)\n",
    "    except Exception as ex:\n",
    "        print('we can not watch video: {}'.format(str(ex)))\n",
    "        return '0'\n",
    "\n",
    "    # Report this channel\n",
    "    try:\n",
    "        report_link = find_report_link(report_channel)\n",
    "        browser.get(report_link)\n",
    "        change_language(browser)\n",
    "        WebDriverWait(browser, 30).until(\n",
    "            EC.presence_of_element_located((By.ID, \"tab-start\")))\n",
    "        tab_start = browser.find_element_by_id('tab-start')\n",
    "        report_types = tab_start.find_elements_by_css_selector('ul > li > div > label')\n",
    "        for report_type in report_types:\n",
    "            if report_type.text == report_reason_1:\n",
    "                report_type.click()\n",
    "\n",
    "        WebDriverWait(browser, 30).until(\n",
    "            EC.presence_of_element_located((By.ID, \"tab-hate-speech\")))\n",
    "        tab_hate_speech = browser.find_element_by_id('tab-hate-speech')\n",
    "        report_types = tab_hate_speech.find_elements_by_css_selector('ul > li > div > label')\n",
    "        for report_type in report_types:\n",
    "            if report_type.text == report_reason_2:\n",
    "                report_type.click()\n",
    "\n",
    "        WebDriverWait(browser, 30).until(\n",
    "            EC.presence_of_element_located((By.ID, \"show-reported-user-info\")))\n",
    "\n",
    "        continue_btn = browser.find_element_by_id('show-reported-user-info')\n",
    "        browser.execute_script(\"arguments[0].click();\", continue_btn)\n",
    "\n",
    "        ui.WebDriverWait(browser, 10).until(\n",
    "            element_has_css_class((By.TAG_NAME, 'textarea'), \"yt-uix-form-input-textarea\"))\n",
    "        notes = browser.find_element_by_class_name('yt-uix-form-input-textarea')\n",
    "        notes.send_keys(report_note)\n",
    "\n",
    "        html = browser.find_element_by_tag_name('html')\n",
    "        html.send_keys(Keys.END)\n",
    "        return '1'\n",
    "    except Exception as ex:\n",
    "        print('Report channel failed: {}'.format(str(ex)))\n",
    "        return '0'\n"
   ]
  },
  {
   "cell_type": "markdown",
   "metadata": {},
   "source": [
    "# Goto recaptcha"
   ]
  },
  {
   "cell_type": "markdown",
   "metadata": {},
   "source": [
    "## get src using in 2captcha api"
   ]
  },
  {
   "cell_type": "code",
   "execution_count": 7,
   "metadata": {},
   "outputs": [],
   "source": [
    "def get_key_recaptcha(browser):\n",
    "    try:\n",
    "        browser.switch_to.default_content()\n",
    "        iframe_switch = browser.find_element(By.XPATH,\n",
    "                                             \"/html/body/div[1]/div[3]/div/div/form/div[2]/div/div[19]/div[4]/div/div/div/iframe\")\n",
    "        key = iframe_switch.get_attribute('src')\n",
    "        keys = key.split('&')\n",
    "        for item in keys:\n",
    "            if 'k=' in item:\n",
    "                key = item[2:]\n",
    "                return key\n",
    "    except Exception as ex:\n",
    "        print('Can not switch to recaptcha checkbox: {}'.format(str(ex)))\n",
    "        return None\n",
    "\n"
   ]
  },
  {
   "cell_type": "code",
   "execution_count": 8,
   "metadata": {
    "scrolled": true
   },
   "outputs": [],
   "source": [
    "def key_resolver_captcha(api_key, api_url):\n",
    "    try:\n",
    "        r = requests.get(api_url)\n",
    "        res = r.text\n",
    "        if 'OK' in res:\n",
    "            request_id = res[3:]\n",
    "            resolver_api = 'http://2captcha.com/res.php?key={}&action=get&id={}'.format(api_key, request_id)\n",
    "            print(resolver_api)\n",
    "            while True:\n",
    "                response = requests.get(resolver_api)\n",
    "                response = response.text\n",
    "                if 'OK' in response:\n",
    "                    response_key = response[3:]\n",
    "                    sleep(5)\n",
    "                    break\n",
    "                if 'ERROR_CAPTCHA_UNSOLVABLE' in response:\n",
    "                    response_key = None\n",
    "                    break\n",
    "\n",
    "            return response_key\n",
    "        else:\n",
    "            print('Can not get key api 2captcha.com')\n",
    "    except Exception as ex:\n",
    "        print('Can not resolver captcha: {}'.format(str(ex)))\n",
    "        return None\n"
   ]
  },
  {
   "cell_type": "code",
   "execution_count": 30,
   "metadata": {},
   "outputs": [],
   "source": [
    "def change_language(browser):\n",
    "    try:\n",
    "        lang_btn = browser.find_element_by_id('yt-picker-language-button')\n",
    "        lang_btn.click()\n",
    "\n",
    "        WebDriverWait(browser, 30).until(\n",
    "            EC.presence_of_element_located((By.CLASS_NAME, \"yt-picker-item\")))\n",
    "\n",
    "        current_lang = browser.find_element_by_class_name('yt-picker-item')\n",
    "        \n",
    "        sleep(2)\n",
    "        # vi_btn = browser.find_elements_by_css_selector('div.yt-picker-grid:nth-child(5) > button:nth-child(2)')\n",
    "        # vi_btn.click()\n",
    "        en_us_btn = browser.find_element_by_xpath('/html/body/div[2]/div/div[1]/div[2]/div[2]/form/div/div[2]/button[2]')\n",
    "        en_us_btn.click()\n",
    "    except Exception as ex:\n",
    "        print('Can not change language: {}'.format(str(ex)))\n"
   ]
  },
  {
   "cell_type": "code",
   "execution_count": null,
   "metadata": {},
   "outputs": [],
   "source": []
  },
  {
   "cell_type": "markdown",
   "metadata": {},
   "source": [
    "## Main"
   ]
  },
  {
   "cell_type": "code",
   "execution_count": 11,
   "metadata": {},
   "outputs": [],
   "source": [
    "browser = create_browser()\n",
    "report_reason_1 = 'Hate Speech Against a Protected Group'\n",
    "report_reason_2 = 'Sexual orientation/gender identity (examples: straight, gay, bisexual, transgender)'\n",
    "report_note = 'Không có ghi chú nào'\n",
    "email = 'binhtongv32@gmail.com'\n",
    "password = 'binhtongv32vv'\n",
    "recovery_email = 'lamtienv54@gmail.com'"
   ]
  },
  {
   "cell_type": "code",
   "execution_count": 33,
   "metadata": {},
   "outputs": [],
   "source": [
    "change_language(browser=browser)"
   ]
  },
  {
   "cell_type": "code",
   "execution_count": 14,
   "metadata": {},
   "outputs": [
    {
     "ename": "NameError",
     "evalue": "name 'report_channel' is not defined",
     "output_type": "error",
     "traceback": [
      "\u001b[1;31m---------------------------------------------------------------------------\u001b[0m",
      "\u001b[1;31mNameError\u001b[0m                                 Traceback (most recent call last)",
      "\u001b[1;32m<ipython-input-14-3487a91b9e07>\u001b[0m in \u001b[0;36m<module>\u001b[1;34m()\u001b[0m\n\u001b[0;32m      1\u001b[0m submit_report_status = submit_report(\n\u001b[1;32m----> 2\u001b[1;33m         \u001b[0mbrowser\u001b[0m\u001b[1;33m,\u001b[0m \u001b[0mreport_channel\u001b[0m\u001b[1;33m,\u001b[0m\u001b[1;33m\u001b[0m\u001b[0m\n\u001b[0m\u001b[0;32m      3\u001b[0m         \u001b[0mreport_reason_1\u001b[0m\u001b[1;33m,\u001b[0m \u001b[0mreport_reason_2\u001b[0m\u001b[1;33m,\u001b[0m\u001b[1;33m\u001b[0m\u001b[0m\n\u001b[0;32m      4\u001b[0m         report_note)\n\u001b[0;32m      5\u001b[0m \u001b[1;33m\u001b[0m\u001b[0m\n",
      "\u001b[1;31mNameError\u001b[0m: name 'report_channel' is not defined"
     ]
    }
   ],
   "source": [
    "submit_report_status = submit_report(\n",
    "        browser, report_channel,\n",
    "        report_reason_1, report_reason_2,\n",
    "        report_note)\n",
    "\n",
    "if submit_report_status == '1':\n",
    "    google_key = get_key_recaptcha(browser)\n",
    "    if google_key is None:\n",
    "        client.db.channel.update({'_id': channel['_id']}, {'$inc': {'count_fail': 1}})\n",
    "\n",
    "    current_url = browser.current_url\n",
    "    captcha_resolver_api = 'http://2captcha.com/in.php?key={}&method=userrecaptcha&googlekey={}&pageurl={}&here=now'.format(\n",
    "        api_key, google_key, current_url)\n",
    "    key_resolver = key_resolver_captcha(api_key, captcha_resolver_api)\n",
    "    if key_resolver is not None:\n",
    "\n",
    "        browser.switch_to.default_content()\n",
    "        WebDriverWait(browser, 30).until(\n",
    "            EC.presence_of_element_located((By.ID, \"g-recaptcha-response\")))\n",
    "        browser.execute_script(\n",
    "            \"document.getElementById('g-recaptcha-response').style.display = 'block';\")\n",
    "        textarea_box = browser.find_element_by_id('g-recaptcha-response')\n",
    "        textarea_box.send_keys(key_resolver)\n",
    "        submit_report_btn = browser.find_element_by_id('submit-report')\n",
    "        submit_report_btn.click()\n",
    "        try:\n",
    "            WebDriverWait(browser, 30).until(\n",
    "                EC.presence_of_element_located((By.CSS_SELECTOR, \".section > p:nth-child(1)\")))\n",
    "            section = browser.find_element_by_css_selector('.section > p:nth-child(1)')\n",
    "            if section and section.text == 'Thank You.':\n",
    "                print('Submit report successfully')\n",
    "                client.db.channel.update({'_id': channel['_id']},\n",
    "                                         {'$inc': {'count_success': 1}})\n",
    "        except Exception as ex:\n",
    "            print('Submit report failed: {}'.format(str(ex)))\n",
    "\n",
    "elif submit_report_status == '2':\n",
    "    print('Channel suspended save to database')\n",
    "    return"
   ]
  },
  {
   "cell_type": "markdown",
   "metadata": {},
   "source": [
    "## get key"
   ]
  },
  {
   "cell_type": "code",
   "execution_count": 37,
   "metadata": {},
   "outputs": [
    {
     "ename": "TypeError",
     "evalue": "get_key_recaptcha() missing 1 required positional argument: 'browser'",
     "output_type": "error",
     "traceback": [
      "\u001b[1;31m---------------------------------------------------------------------------\u001b[0m",
      "\u001b[1;31mTypeError\u001b[0m                                 Traceback (most recent call last)",
      "\u001b[1;32m<ipython-input-37-e13b98bc065d>\u001b[0m in \u001b[0;36m<module>\u001b[1;34m()\u001b[0m\n\u001b[0;32m      1\u001b[0m \u001b[0mapi_key\u001b[0m \u001b[1;33m=\u001b[0m \u001b[1;34m'094c2420f179731334edccbf176dbd79'\u001b[0m\u001b[1;33m\u001b[0m\u001b[0m\n\u001b[1;32m----> 2\u001b[1;33m \u001b[0mgooglekey\u001b[0m \u001b[1;33m=\u001b[0m \u001b[0mget_key_recaptcha\u001b[0m\u001b[1;33m(\u001b[0m\u001b[1;33m)\u001b[0m\u001b[1;33m\u001b[0m\u001b[0m\n\u001b[0m\u001b[0;32m      3\u001b[0m \u001b[0mcurrent_url\u001b[0m \u001b[1;33m=\u001b[0m \u001b[0mbrowser\u001b[0m\u001b[1;33m.\u001b[0m\u001b[0mcurrent_url\u001b[0m\u001b[1;33m\u001b[0m\u001b[0m\n\u001b[0;32m      4\u001b[0m \u001b[0mcaptcharesolver_api\u001b[0m \u001b[1;33m=\u001b[0m \u001b[1;34m'http://2captcha.com/in.php?key={}&method=userrecaptcha&googlekey={}&pageurl={}&here=now'\u001b[0m\u001b[1;33m.\u001b[0m\u001b[0mformat\u001b[0m\u001b[1;33m(\u001b[0m\u001b[0mapi_key\u001b[0m\u001b[1;33m,\u001b[0m \u001b[0mgooglekey\u001b[0m\u001b[1;33m,\u001b[0m \u001b[0mcurrent_url\u001b[0m\u001b[1;33m)\u001b[0m\u001b[1;33m\u001b[0m\u001b[0m\n\u001b[0;32m      5\u001b[0m \u001b[0mkey_resolver\u001b[0m \u001b[1;33m=\u001b[0m \u001b[0mkey_resolver_captcha\u001b[0m\u001b[1;33m(\u001b[0m\u001b[0mapi_key\u001b[0m\u001b[1;33m,\u001b[0m \u001b[0mcaptcharesolver_api\u001b[0m\u001b[1;33m)\u001b[0m\u001b[1;33m\u001b[0m\u001b[0m\n",
      "\u001b[1;31mTypeError\u001b[0m: get_key_recaptcha() missing 1 required positional argument: 'browser'"
     ]
    }
   ],
   "source": [
    "api_key = '094c2420f179731334edccbf176dbd79'\n",
    "googlekey = get_key_recaptcha()\n",
    "current_url = browser.current_url\n",
    "captcharesolver_api = 'http://2captcha.com/in.php?key={}&method=userrecaptcha&googlekey={}&pageurl={}&here=now'.format(api_key, googlekey, current_url)\n",
    "key_resolver = key_resolver_captcha(api_key, captcharesolver_api)"
   ]
  },
  {
   "cell_type": "markdown",
   "metadata": {},
   "source": [
    "## resolver captcha after receiver request"
   ]
  },
  {
   "cell_type": "code",
   "execution_count": 53,
   "metadata": {},
   "outputs": [],
   "source": [
    "# browser.switch_to.default_content()\n",
    "# browser.delete_all_cookies()\n",
    "# browser.switch_to.frame(iframeSwitch)\n",
    "#ActionChains(driver).move_to_element(iframeSwitch).perform()\n",
    "# browser.delete_all_cookies()\n",
    "# WebDriverWait(browser, 30).until(EC.presence_of_element_located((By.ID, \"recaptcha-anchor\")))\n",
    "# ele = browser.find_element(By.ID, \"recaptcha-anchor\")\n",
    "#ActionChains(driver).move_to_element(ele).perform()\n",
    "# ele.click()\n"
   ]
  },
  {
   "cell_type": "code",
   "execution_count": 54,
   "metadata": {
    "scrolled": true
   },
   "outputs": [],
   "source": [
    "browser.switch_to.default_content()\n",
    "WebDriverWait(browser, 30).until(EC.presence_of_element_located((By.ID, \"g-recaptcha-response\")))\n",
    "browser.execute_script(\"document.getElementById('g-recaptcha-response').style.display = 'block';\")\n",
    "textarea_box = browser.find_element_by_id('g-recaptcha-response')\n",
    "textarea_box.send_keys(key_resolver)"
   ]
  },
  {
   "cell_type": "code",
   "execution_count": 55,
   "metadata": {},
   "outputs": [],
   "source": [
    "submit_report = browser.find_element_by_id('submit-report')\n",
    "submit_report.click()"
   ]
  },
  {
   "cell_type": "code",
   "execution_count": 56,
   "metadata": {},
   "outputs": [],
   "source": [
    "WebDriverWait(browser, 30).until(EC.presence_of_element_located((By.ID, \"content\")))\n",
    "section = browser.find_element_by_css_selector('.section > p:nth-child(1)')\n",
    "if section.text == 'Thank You.':\n",
    "    sleep(5)\n",
    "    browser.quit()"
   ]
  },
  {
   "cell_type": "markdown",
   "metadata": {},
   "source": [
    "# check if channel die"
   ]
  },
  {
   "cell_type": "code",
   "execution_count": null,
   "metadata": {},
   "outputs": [],
   "source": [
    "text = browser.find_element_by_css_selector('#container > yt-formatted-string')\n",
    "if text.text == 'This account has been terminated for violating Google\\'s Terms of Service.':\n",
    "    print('True')\n"
   ]
  }
 ],
 "metadata": {
  "kernelspec": {
   "display_name": "Python 3",
   "language": "python",
   "name": "python3"
  },
  "language_info": {
   "codemirror_mode": {
    "name": "ipython",
    "version": 3
   },
   "file_extension": ".py",
   "mimetype": "text/x-python",
   "name": "python",
   "nbconvert_exporter": "python",
   "pygments_lexer": "ipython3",
   "version": "3.6.5"
  }
 },
 "nbformat": 4,
 "nbformat_minor": 2
}
