{
 "cells": [
  {
   "cell_type": "code",
   "execution_count": 47,
   "metadata": {
    "scrolled": true
   },
   "outputs": [
    {
     "name": "stdout",
     "output_type": "stream",
     "text": [
      "https://www.youtube.com/reportabuse?u=MacC2sTrMeLIS82oQCT0DA\n",
      "No need to input recovery email\n"
     ]
    }
   ],
   "source": [
    "# %load test_login.py\n",
    "import random\n",
    "import json\n",
    "from time import sleep, time\n",
    "from selenium import webdriver\n",
    "from selenium.webdriver.common.desired_capabilities import DesiredCapabilities\n",
    "import selenium.webdriver.support.ui as ui\n",
    "from selenium.webdriver.common.by import By\n",
    "from selenium.webdriver.support import expected_conditions\n",
    "from selenium.webdriver.common.keys import Keys\n",
    "from selenium.webdriver.support.wait import WebDriverWait\n",
    "from selenium.webdriver.support import expected_conditions as EC\n",
    "from custom_conditions import element_has_css_class\n",
    "from untils import find_report_link, watch_videos\n",
    "from solve_recaptcha import write_stat, check_exists_by_xpath, wait_between, dimention, solve_images\n",
    "\n",
    "geckodriver = 'C:\\\\Users\\\\Thinh\\\\Code\\\\rp-yt-backend\\\\etc\\\\geckodriver-v0.21.0-win64\\\\geckodriver.exe'\n",
    "binary = 'C:\\\\Program Files\\\\Mozilla Firefox\\\\firefox.exe'\n",
    "PROXY_HOST = ''\n",
    "PROXY_PORT = ''\n",
    "email = 'markogunz@gmail.com'\n",
    "password = 'Minh1234'\n",
    "recovery_mail = 'washpets17336@yahoo.com'\n",
    "report_channel = 'https://www.youtube.com/channel/UCbeWyhKo7Dk0Znf_ik0tsHw'\n",
    "report_link = find_report_link(report_channel)\n",
    "print(report_link)\n",
    "report_reson_1 = 'Hate Speech Against a Protected Group'\n",
    "report_reson_2 = 'Race or ethnic origin (examples: African American, Pacific Islander)'\n",
    "report_note = 'none'\n",
    "capabilities = DesiredCapabilities.FIREFOX.copy()\n",
    "capabilities['marionette'] = True\n",
    "capabilities['acceptSslCerts'] = True\n",
    "\n",
    "profile = webdriver.FirefoxProfile()\n",
    "profile.set_preference(\"browser.privatebrowsing.autostart\", True)\n",
    "profile.set_preference(\"browser.cache.disk.enable\", False)\n",
    "profile.set_preference(\"browser.cache.memory.enable\", False)\n",
    "profile.set_preference(\"browser.cache.offline.enable\", False)\n",
    "profile.set_preference(\"network.http.use-cache\", False) \n",
    "profile.set_preference(\"browser.download.folderList\", 2);\n",
    "profile.set_preference(\"browser.download.dir\", 'D:\\\\Code\\\\repport-yt-backend\\\\audio');\n",
    "profile.set_preference(\"browser.download.manager.showWhenStarting\", True);\n",
    "profile.set_preference(\"browser.helperApps.neverAsk.saveToDisk\", \"audio/mp3\");\n",
    "#profile.set_preference(\"network.proxy.type\", 1)\n",
    "#profile.set_preference(\"network.proxy.http\",PROXY_HOST)\n",
    "#profile.set_preference(\"network.proxy.http_port\",int(PROXY_PORT))\n",
    "#profile.set_preference(\"general.useragent.override\",\"whater_useragent\")\n",
    "options = webdriver.FirefoxOptions()\n",
    "#options.add_argument('-headless')\n",
    "\n",
    "\n",
    "browser = webdriver.Firefox(\n",
    "        executable_path=geckodriver,\n",
    "        firefox_options=options,\n",
    "        capabilities=capabilities,\n",
    "        firefox_binary=binary,\n",
    "        firefox_profile=profile)\n",
    "browser.set_window_size(1920, 1080)\n",
    "browser.set_window_position(0, 0)\n",
    "wait = ui.WebDriverWait(browser,10)\n",
    "\n"
   ]
  },
  {
   "cell_type": "markdown",
   "metadata": {},
   "source": [
    "# Login"
   ]
  },
  {
   "cell_type": "code",
   "execution_count": null,
   "metadata": {},
   "outputs": [],
   "source": [
    "browser.get('https://www.youtube.com/')\n",
    "\n",
    "sign_in_btn = browser.find_element_by_css_selector('a.yt-simple-endpoint.style-scope.ytd-button-renderer')\n",
    "sign_in_btn.click()\n",
    "\n",
    "email_inp = browser.find_element_by_id('identifierId')\n",
    "email_inp.send_keys(email)\n",
    "browser.find_element_by_id('identifierNext').click() # đi đến trang nhập password\n",
    "wait.until(expected_conditions.text_to_be_present_in_element((\n",
    "                By.CSS_SELECTOR, '#headingText > content'), 'Welcome'))\n",
    "password_inp = browser.find_element_by_css_selector('input.whsOnd.zHQkBf')\n",
    "password_inp.send_keys(password)\n",
    "browser.find_element_by_id('passwordNext').click()\n",
    "\n",
    "try:\n",
    "    header = browser.find_element_by_id('headingText')\n",
    "    if header and header.text == 'Verify it\\'s you':\n",
    "        print('Need to input recovery email')\n",
    "        browser.find_element_by_class_name('vdE7Oc').click()\n",
    "        recovery_email = browser.find_element_by_id('knowledge-preregistered-email-response')\n",
    "        recovery_email.send_keys(recovery_mail)\n",
    "        next_btn = browser.find_element_by_id('next')\n",
    "        next_btn.click()\n",
    "except Exception as ex:\n",
    "    print('No need to input recovery email')\n",
    "\n",
    "wait.until(expected_conditions.url_matches('https://www.youtube.com/'))"
   ]
  },
  {
   "cell_type": "markdown",
   "metadata": {},
   "source": [
    "# Submit report"
   ]
  },
  {
   "cell_type": "code",
   "execution_count": 65,
   "metadata": {},
   "outputs": [],
   "source": [
    "# watch some videos\n",
    "browser.get(report_channel + '/videos')\n",
    "videos = browser.find_elements_by_id('video-title')\n",
    "video = random.choice(videos)\n",
    "href = video.get_attribute('href')\n",
    "watch_videos(browser, href)\n",
    "        \n",
    "sleep(random.randint(0, 100))\n",
    "# Report this channel\n",
    "browser.get(report_link)\n",
    "tab_start = browser.find_element_by_id('tab-start')\n",
    "report_types = tab_start.find_elements_by_css_selector('ul > li > div > label')\n",
    "for report_type in report_types:\n",
    "    if report_type.text == report_reson_1:\n",
    "        report_type.click()\n",
    "\n",
    "tab_hate_speech = browser.find_element_by_id('tab-hate-speech')\n",
    "report_types = tab_hate_speech.find_elements_by_css_selector('ul > li > div > label')\n",
    "for report_type in report_types:\n",
    "    if report_type.text == report_reson_2:\n",
    "        report_type.click()\n",
    "        \n",
    "continue_btn = browser.find_element_by_id('show-reported-user-info')\n",
    "continue_btn.click()\n",
    "\n",
    "wait.until(element_has_css_class((By.TAG_NAME, 'textarea'), \"yt-uix-form-input-textarea\"))\n",
    "notes = browser.find_element_by_class_name('yt-uix-form-input-textarea')\n",
    "notes.send_keys(report_note)\n",
    "\n",
    "html = browser.find_element_by_tag_name('html')\n",
    "html.send_keys(Keys.END)"
   ]
  },
  {
   "cell_type": "markdown",
   "metadata": {},
   "source": [
    "# Goto recaptcha"
   ]
  },
  {
   "cell_type": "markdown",
   "metadata": {},
   "source": [
    "## get src using in 2captcha api"
   ]
  },
  {
   "cell_type": "code",
   "execution_count": 66,
   "metadata": {},
   "outputs": [],
   "source": [
    "browser.switch_to.default_content()\n",
    "iframeSwitch = browser.find_element(By.XPATH, \"/html/body/div[1]/div[3]/div/div/form/div[2]/div/div[19]/div[4]/div/div/div/iframe\")\n",
    "key = iframeSwitch.get_attribute('src')"
   ]
  },
  {
   "cell_type": "markdown",
   "metadata": {},
   "source": [
    "## get key"
   ]
  },
  {
   "cell_type": "code",
   "execution_count": 67,
   "metadata": {},
   "outputs": [],
   "source": [
    "keys = key.split('&')\n",
    "for item in keys:\n",
    "    if 'k=' in item:\n",
    "        key = item[2:]"
   ]
  },
  {
   "cell_type": "code",
   "execution_count": 68,
   "metadata": {},
   "outputs": [],
   "source": [
    "api_key = '094c2420f179731334edccbf176dbd79'\n",
    "googlekey = key\n",
    "current_url = browser.current_url"
   ]
  },
  {
   "cell_type": "code",
   "execution_count": 69,
   "metadata": {},
   "outputs": [],
   "source": [
    "captcharesolver_api = 'http://2captcha.com/in.php?key={}&method=userrecaptcha&googlekey={}&pageurl={}&here=now'.format(api_key, googlekey, current_url)"
   ]
  },
  {
   "cell_type": "code",
   "execution_count": 70,
   "metadata": {
    "scrolled": true
   },
   "outputs": [
    {
     "name": "stdout",
     "output_type": "stream",
     "text": [
      "OK|60357765066\n",
      "http://2captcha.com/res.php?key=094c2420f179731334edccbf176dbd79&action=get&id=60357765066\n",
      "03AHqfIOkUtsgnLUztj9BfdogLWJHuAwRUmCyvDFLNZ3ILP9PJTm0Lbf3K1WOoIlfHKI8_eqpugQD6qD1ysu9nqEbLT7MsHAjDoX4jn0jFhRNWyQSiOHs2ns8v99WFRVUsfALBS2h8djlhPdM2fUlnGDgea6W2KEiq8XjVQvOvyB1tSUwbTzeCnkaA5OzB0kdxznJo5oWenlnwIQ-laxiiSoMJlZRWIpjRR6umxs2H1BHq84NGQ7wbL2oM4SoYw4V7TVrGuT1ht6lkCpmdw4b2j5ogf3zhIPGxHg\n"
     ]
    }
   ],
   "source": [
    "import requests\n",
    "response_key = None\n",
    "request_id = None\n",
    "r = requests.get(captcharesolver_api)\n",
    "res = r.text\n",
    "print(r.text)\n",
    "if 'OK' in res:\n",
    "    request_id = res[3:]\n",
    "    resolver_api = 'http://2captcha.com/res.php?key={}&action=get&id={}'.format(api_key, request_id)\n",
    "    print(resolver_api)\n",
    "    is_resolver = False\n",
    "    while not is_resolver:\n",
    "        response = requests.get(resolver_api)\n",
    "        response = response.text\n",
    "        if 'OK' in response:\n",
    "            is_resolver = True\n",
    "            response_key = response[3:]\n",
    "            print(response_key)\n",
    "            break\n",
    "        sleep(5)"
   ]
  },
  {
   "cell_type": "markdown",
   "metadata": {},
   "source": [
    "## resolver captcha after receiver reqeust"
   ]
  },
  {
   "cell_type": "code",
   "execution_count": 53,
   "metadata": {},
   "outputs": [],
   "source": [
    "# browser.switch_to.default_content()\n",
    "# browser.delete_all_cookies()\n",
    "# browser.switch_to.frame(iframeSwitch)\n",
    "#ActionChains(driver).move_to_element(iframeSwitch).perform()\n",
    "# browser.delete_all_cookies()\n",
    "# WebDriverWait(browser, 30).until(EC.presence_of_element_located((By.ID, \"recaptcha-anchor\")))\n",
    "# ele = browser.find_element(By.ID, \"recaptcha-anchor\")\n",
    "#ActionChains(driver).move_to_element(ele).perform()\n",
    "# ele.click()\n"
   ]
  },
  {
   "cell_type": "code",
   "execution_count": 71,
   "metadata": {
    "scrolled": true
   },
   "outputs": [],
   "source": [
    "browser.switch_to.default_content()\n",
    "WebDriverWait(browser, 30).until(EC.presence_of_element_located((By.ID, \"g-recaptcha-response\")))\n",
    "browser.execute_script(\"document.getElementById('g-recaptcha-response').style.display = 'block';\")\n",
    "textarea_box = browser.find_element_by_id('g-recaptcha-response')\n",
    "textarea_box.send_keys(response_key)"
   ]
  },
  {
   "cell_type": "code",
   "execution_count": 72,
   "metadata": {},
   "outputs": [],
   "source": [
    "submit_report = browser.find_element_by_id('submit-report')\n",
    "submit_report.click()"
   ]
  },
  {
   "cell_type": "code",
   "execution_count": 75,
   "metadata": {},
   "outputs": [],
   "source": [
    "WebDriverWait(browser, 30).until(EC.presence_of_element_located((By.ID, \"content\")))\n",
    "section = browser.find_element_by_css_selector('.section > p:nth-child(1)')\n",
    "if section.text == 'Thank You.':\n",
    "    sleep(5)\n",
    "    browser.quit()"
   ]
  }
 ],
 "metadata": {
  "kernelspec": {
   "display_name": "Python 3",
   "language": "python",
   "name": "python3"
  },
  "language_info": {
   "codemirror_mode": {
    "name": "ipython",
    "version": 3
   },
   "file_extension": ".py",
   "mimetype": "text/x-python",
   "name": "python",
   "nbconvert_exporter": "python",
   "pygments_lexer": "ipython3",
   "version": "3.6.5"
  }
 },
 "nbformat": 4,
 "nbformat_minor": 2
}
